{
 "cells": [
  {
   "cell_type": "code",
   "execution_count": 1,
   "metadata": {},
   "outputs": [],
   "source": [
    "import nltk\n",
    "from nltk.stem import PorterStemmer\n",
    "from nltk.corpus import stopwords"
   ]
  },
  {
   "cell_type": "code",
   "execution_count": 2,
   "metadata": {},
   "outputs": [],
   "source": [
    "stemmer=PorterStemmer()"
   ]
  },
  {
   "cell_type": "code",
   "execution_count": 4,
   "metadata": {},
   "outputs": [
    {
     "data": {
      "text/plain": [
       "('fairli', 'sportingli')"
      ]
     },
     "execution_count": 4,
     "metadata": {},
     "output_type": "execute_result"
    }
   ],
   "source": [
    "#stemmming\n",
    "stemmer.stem('fairly'),stemmer.stem('sportingly')"
   ]
  },
  {
   "cell_type": "code",
   "execution_count": 24,
   "metadata": {},
   "outputs": [
    {
     "data": {
      "text/plain": [
       "[' lorem The proposed system involves recording customer\\n conversations secretly in a business environment using voice recording technology.',\n",
       " 'The recorded conversations are then converted into text format, and analysis is performed to \\n   extract valuable feedback insights.',\n",
       " 'Importantly, the system respects customer privacy by only \\n   using data related to the business or its products.',\n",
       " 'Any irrelevant data is discarded to ensure \\n   privacy and confidentiality.',\n",
       " 'By leveraging this approach, \\nbusinesses can gather honest feedback from customers while maintaining their privacy and confidentiality.']"
      ]
     },
     "execution_count": 24,
     "metadata": {},
     "output_type": "execute_result"
    }
   ],
   "source": [
    "paragraph=''' lorem The proposed system involves recording customer\n",
    " conversations secretly in a business environment using voice recording technology.\n",
    "   The recorded conversations are then converted into text format, and analysis is performed to \n",
    "   extract valuable feedback insights. Importantly, the system respects customer privacy by only \n",
    "   using data related to the business or its products. Any irrelevant data is discarded to ensure \n",
    "   privacy and confidentiality. By leveraging this approach, \n",
    "businesses can gather honest feedback from customers while maintaining their privacy and confidentiality.\n",
    "'''\n",
    "#tokenizing words into sentences\n",
    "sentences=nltk.sent_tokenize(paragraph)\n",
    "sentences"
   ]
  },
  {
   "cell_type": "code",
   "execution_count": 25,
   "metadata": {},
   "outputs": [],
   "source": [
    "#creating an stemmer object\n",
    "stemmer=PorterStemmer()"
   ]
  },
  {
   "cell_type": "code",
   "execution_count": 27,
   "metadata": {},
   "outputs": [],
   "source": [
    "#removing stopwords from the sentences\n",
    "#stopwords are useless words eg:a,the,an etc..\n",
    "for i in range(len(sentences)):\n",
    "    words=nltk.word_tokenize(sentences[i])\n",
    "    words=[stemmer.stem(word) for word in words if word not in set(stopwords.words('english'))]\n",
    "    sentences[i]=' '.join(words)\n",
    "\n",
    "        "
   ]
  },
  {
   "cell_type": "code",
   "execution_count": 28,
   "metadata": {},
   "outputs": [
    {
     "data": {
      "text/plain": [
       "['lorem the propos system involv record custom convers secretli busi environ use voic record technolog .',\n",
       " 'the record convers convert text format , analysi perform extract valuabl feedback insight .',\n",
       " 'importantli , system respect custom privaci use data relat busi product .',\n",
       " 'ani irrelev data discard ensur privaci confidenti .',\n",
       " 'by leverag approach , busi gather honest feedback custom maintain privaci confidenti .']"
      ]
     },
     "execution_count": 28,
     "metadata": {},
     "output_type": "execute_result"
    }
   ],
   "source": [
    "sentences"
   ]
  },
  {
   "cell_type": "code",
   "execution_count": 29,
   "metadata": {},
   "outputs": [
    {
     "data": {
      "text/plain": [
       "['by',\n",
       " 'leverag',\n",
       " 'approach',\n",
       " ',',\n",
       " 'busi',\n",
       " 'gather',\n",
       " 'honest',\n",
       " 'feedback',\n",
       " 'custom',\n",
       " 'maintain',\n",
       " 'privaci',\n",
       " 'confidenti',\n",
       " '.']"
      ]
     },
     "execution_count": 29,
     "metadata": {},
     "output_type": "execute_result"
    }
   ],
   "source": [
    "words"
   ]
  },
  {
   "cell_type": "code",
   "execution_count": null,
   "metadata": {},
   "outputs": [],
   "source": []
  }
 ],
 "metadata": {
  "kernelspec": {
   "display_name": "base",
   "language": "python",
   "name": "python3"
  },
  "language_info": {
   "codemirror_mode": {
    "name": "ipython",
    "version": 3
   },
   "file_extension": ".py",
   "mimetype": "text/x-python",
   "name": "python",
   "nbconvert_exporter": "python",
   "pygments_lexer": "ipython3",
   "version": "3.11.5"
  }
 },
 "nbformat": 4,
 "nbformat_minor": 2
}
