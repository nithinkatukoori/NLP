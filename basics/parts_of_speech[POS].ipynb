{
 "cells": [
  {
   "cell_type": "code",
   "execution_count": null,
   "metadata": {},
   "outputs": [],
   "source": [
    "pos_list'''CC coordinating conjunction \n",
    "CD cardinal digit \n",
    "DT determiner \n",
    "EX existential there (like: “there is” … think of it like “there exists”) \n",
    "FW foreign word \n",
    "IN preposition/subordinating conjunction \n",
    "JJ adjective – ‘big’ \n",
    "JJR adjective, comparative – ‘bigger’ \n",
    "JJS adjective, superlative – ‘biggest’ \n",
    "LS list marker 1) \n",
    "MD modal – could, will \n",
    "NN noun, singular ‘- desk’ \n",
    "NNS noun plural – ‘desks’ \n",
    "NNP proper noun, singular – ‘Harrison’ \n",
    "NNPS proper noun, plural – ‘Americans’ \n",
    "PDT predeterminer – ‘all the kids’ \n",
    "POS possessive ending parent’s \n",
    "PRP personal pronoun –  I, he, she \n",
    "PRP$ possessive pronoun – my, his, hers \n",
    "RB adverb – very, silently, \n",
    "RBR adverb, comparative – better \n",
    "RBS adverb, superlative – best \n",
    "RP particle – give up \n",
    "TO – to go ‘to’ the store. \n",
    "UH interjection – errrrrrrrm \n",
    "VB verb, base form – take \n",
    "VBD verb, past tense – took \n",
    "VBG verb, gerund/present participle – taking \n",
    "VBN verb, past participle – taken \n",
    "VBP verb, sing. present, non-3d – take \n",
    "VBZ verb, 3rd person sing. present – takes \n",
    "WDT wh-determiner – which \n",
    "WP wh-pronoun – who, what \n",
    "WP$ possessive wh-pronoun, eg- whose \n",
    "WRB wh-adverb, eg- where, when'''"
   ]
  },
  {
   "cell_type": "code",
   "execution_count": 1,
   "metadata": {},
   "outputs": [],
   "source": [
    "import nltk\n",
    "from nltk.corpus import stopwords"
   ]
  },
  {
   "cell_type": "code",
   "execution_count": 2,
   "metadata": {},
   "outputs": [],
   "source": [
    "text='''I believe that India got its first vision of this in 1857,\n",
    " when we started the war of Independence. It is this freedom that\n",
    "   we must protect and nurture and build on. If we are not free,\n",
    " no one will respect us. My second vision for India's DEVELOPMENT, \n",
    " For fifty years we have been A developing nation.'''\n"
   ]
  },
  {
   "cell_type": "code",
   "execution_count": 5,
   "metadata": {},
   "outputs": [
    {
     "data": {
      "text/plain": [
       "[('I', 'PRP'),\n",
       " ('believe', 'VBP'),\n",
       " ('that', 'IN'),\n",
       " ('India', 'NNP'),\n",
       " ('got', 'VBD'),\n",
       " ('its', 'PRP$'),\n",
       " ('first', 'JJ'),\n",
       " ('vision', 'NN'),\n",
       " ('of', 'IN'),\n",
       " ('this', 'DT'),\n",
       " ('in', 'IN'),\n",
       " ('1857', 'CD'),\n",
       " (',', ','),\n",
       " ('when', 'WRB'),\n",
       " ('we', 'PRP'),\n",
       " ('started', 'VBD'),\n",
       " ('the', 'DT'),\n",
       " ('war', 'NN'),\n",
       " ('of', 'IN'),\n",
       " ('Independence', 'NNP'),\n",
       " ('.', '.'),\n",
       " ('It', 'PRP'),\n",
       " ('is', 'VBZ'),\n",
       " ('this', 'DT'),\n",
       " ('freedom', 'NN'),\n",
       " ('that', 'IN'),\n",
       " ('we', 'PRP'),\n",
       " ('must', 'MD'),\n",
       " ('protect', 'VB'),\n",
       " ('and', 'CC'),\n",
       " ('nurture', 'NN'),\n",
       " ('and', 'CC'),\n",
       " ('build', 'VB'),\n",
       " ('on', 'IN'),\n",
       " ('.', '.'),\n",
       " ('If', 'IN'),\n",
       " ('we', 'PRP'),\n",
       " ('are', 'VBP'),\n",
       " ('not', 'RB'),\n",
       " ('free', 'JJ'),\n",
       " (',', ','),\n",
       " ('no', 'DT'),\n",
       " ('one', 'NN'),\n",
       " ('will', 'MD'),\n",
       " ('respect', 'VB'),\n",
       " ('us', 'PRP'),\n",
       " ('.', '.'),\n",
       " ('My', 'PRP$'),\n",
       " ('second', 'JJ'),\n",
       " ('vision', 'NN'),\n",
       " ('for', 'IN'),\n",
       " ('India', 'NNP'),\n",
       " (\"'s\", 'POS'),\n",
       " ('DEVELOPMENT', 'NNP'),\n",
       " (',', ','),\n",
       " ('For', 'IN'),\n",
       " ('fifty', 'JJ'),\n",
       " ('years', 'NNS'),\n",
       " ('we', 'PRP'),\n",
       " ('have', 'VBP'),\n",
       " ('been', 'VBN'),\n",
       " ('A', 'NNP'),\n",
       " ('developing', 'VBG'),\n",
       " ('nation', 'NN'),\n",
       " ('.', '.')]"
      ]
     },
     "execution_count": 5,
     "metadata": {},
     "output_type": "execute_result"
    }
   ],
   "source": [
    "words=nltk.word_tokenize(text)\n",
    "nltk.pos_tag(words)"
   ]
  },
  {
   "cell_type": "code",
   "execution_count": null,
   "metadata": {},
   "outputs": [],
   "source": []
  }
 ],
 "metadata": {
  "kernelspec": {
   "display_name": "base",
   "language": "python",
   "name": "python3"
  },
  "language_info": {
   "codemirror_mode": {
    "name": "ipython",
    "version": 3
   },
   "file_extension": ".py",
   "mimetype": "text/x-python",
   "name": "python",
   "nbconvert_exporter": "python",
   "pygments_lexer": "ipython3",
   "version": "3.11.5"
  }
 },
 "nbformat": 4,
 "nbformat_minor": 2
}
