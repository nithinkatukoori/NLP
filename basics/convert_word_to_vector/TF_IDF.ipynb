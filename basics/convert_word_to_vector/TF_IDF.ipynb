{
 "cells": [
  {
   "cell_type": "code",
   "execution_count": 1,
   "metadata": {},
   "outputs": [],
   "source": [
    "import nltk\n",
    "import re\n",
    "from nltk.corpus import stopwords\n",
    "from nltk.stem import PorterStemmer\n",
    "from nltk.stem import WordNetLemmatizer"
   ]
  },
  {
   "cell_type": "code",
   "execution_count": 2,
   "metadata": {},
   "outputs": [],
   "source": [
    "paragraph='''\"I HAVE THREE VISIONS FOR INDIA\"\n",
    " \n",
    "In 3000 years of our history, people from all over the world have come and invadedus,\n",
    " captured our lands, conquered our minds. From Alexander on-vvards. The Greeks,the Turks’, \n",
    " the-Moguls, the Portuguese, the British, the French, the Dutch, all of themcame and looted us,\n",
    "   took over what was ours. Yet we have not done this to any othernation. We have not conquered anyone.\n",
    " \n",
    "We have not grabbed their land, their culture, their history and tried to enforce ourway of \n",
    "life on them. Why? Because we respect the freedom of others. That is why myfirst vision is that of FREEDOM\n",
    ". I believe that India got its first vision of this in 1857,when we started the war of independence. \n",
    "It is this freedom that we must protect andnurture and build on. If we are not free, no one will respect us.\n",
    " \n",
    "My second vision for India is DEVELOPMENT. For fifty years\n",
    " we have been adeveloping nation. It is time we see ourselves\n",
    "   as a developed nation. We are amongthe top 5 nations of the world in \n",
    "   terms of GDP. We have 10 percent growth rate in mostareas. Our povert\n",
    "   y levels are falling. Our achievements are being globally recognizedtoday. \n",
    "   Yet we lack the self-confidence to see ourselves as a developed nation, self-reliant and self-assured. Isn’t this incorrect?\n",
    "'''"
   ]
  },
  {
   "cell_type": "code",
   "execution_count": 3,
   "metadata": {},
   "outputs": [],
   "source": [
    "lematizer=WordNetLemmatizer()\n",
    "ps=PorterStemmer()"
   ]
  },
  {
   "cell_type": "code",
   "execution_count": 4,
   "metadata": {},
   "outputs": [
    {
     "data": {
      "text/plain": [
       "['\"I HAVE THREE VISIONS FOR INDIA\"\\n \\nIn 3000 years of our history, people from all over the world have come and invadedus,\\n captured our lands, conquered our minds.',\n",
       " 'From Alexander on-vvards.',\n",
       " 'The Greeks,the Turks’, \\n the-Moguls, the Portuguese, the British, the French, the Dutch, all of themcame and looted us,\\n   took over what was ours.',\n",
       " 'Yet we have not done this to any othernation.',\n",
       " 'We have not conquered anyone.',\n",
       " 'We have not grabbed their land, their culture, their history and tried to enforce ourway of \\nlife on them.',\n",
       " 'Why?',\n",
       " 'Because we respect the freedom of others.',\n",
       " 'That is why myfirst vision is that of FREEDOM\\n.',\n",
       " 'I believe that India got its first vision of this in 1857,when we started the war of independence.',\n",
       " 'It is this freedom that we must protect andnurture and build on.',\n",
       " 'If we are not free, no one will respect us.',\n",
       " 'My second vision for India is DEVELOPMENT.',\n",
       " 'For fifty years\\n we have been adeveloping nation.',\n",
       " 'It is time we see ourselves\\n   as a developed nation.',\n",
       " 'We are amongthe top 5 nations of the world in \\n   terms of GDP.',\n",
       " 'We have 10 percent growth rate in mostareas.',\n",
       " 'Our povert\\n   y levels are falling.',\n",
       " 'Our achievements are being globally recognizedtoday.',\n",
       " 'Yet we lack the self-confidence to see ourselves as a developed nation, self-reliant and self-assured.',\n",
       " 'Isn’t this incorrect?']"
      ]
     },
     "execution_count": 4,
     "metadata": {},
     "output_type": "execute_result"
    }
   ],
   "source": [
    "sentences=nltk.sent_tokenize(paragraph)\n",
    "sentences"
   ]
  },
  {
   "cell_type": "code",
   "execution_count": 5,
   "metadata": {},
   "outputs": [],
   "source": [
    "#cleaning\n",
    "corpus=[]\n",
    "for i in range(len(sentences)):\n",
    "    review=re.sub('[^a-zA-Z]',' ',sentences[i])\n",
    "    review=review.lower()\n",
    "    review=review.split()\n",
    "    review=[lematizer.lemmatize(word) for word in review if word not in set(stopwords.words('english'))]\n",
    "    review=' '.join(review)\n",
    "    corpus.append(review)\n"
   ]
  },
  {
   "cell_type": "code",
   "execution_count": 6,
   "metadata": {},
   "outputs": [
    {
     "data": {
      "text/plain": [
       "['three vision india year history people world come invadedus captured land conquered mind',\n",
       " 'alexander vvards',\n",
       " 'greek turk mogul portuguese british french dutch themcame looted u took',\n",
       " 'yet done othernation',\n",
       " 'conquered anyone',\n",
       " 'grabbed land culture history tried enforce ourway life',\n",
       " '',\n",
       " 'respect freedom others',\n",
       " 'myfirst vision freedom',\n",
       " 'believe india got first vision started war independence',\n",
       " 'freedom must protect andnurture build',\n",
       " 'free one respect u',\n",
       " 'second vision india development',\n",
       " 'fifty year adeveloping nation',\n",
       " 'time see developed nation',\n",
       " 'amongthe top nation world term gdp',\n",
       " 'percent growth rate mostareas',\n",
       " 'povert level falling',\n",
       " 'achievement globally recognizedtoday',\n",
       " 'yet lack self confidence see developed nation self reliant self assured',\n",
       " 'incorrect']"
      ]
     },
     "execution_count": 6,
     "metadata": {},
     "output_type": "execute_result"
    }
   ],
   "source": [
    "corpus"
   ]
  },
  {
   "cell_type": "code",
   "execution_count": 8,
   "metadata": {},
   "outputs": [],
   "source": [
    "#creating TF-IDF\n",
    "from sklearn.feature_extraction.text import TfidfVectorizer\n",
    "cv=TfidfVectorizer()\n",
    "x=cv.fit_transform(corpus).toarray()"
   ]
  },
  {
   "cell_type": "code",
   "execution_count": 11,
   "metadata": {},
   "outputs": [
    {
     "data": {
      "text/plain": [
       "array([[0.        , 0.        , 0.        , ..., 0.26499186, 0.26499186,\n",
       "        0.        ],\n",
       "       [0.        , 0.        , 0.70710678, ..., 0.        , 0.        ,\n",
       "        0.        ],\n",
       "       [0.        , 0.        , 0.        , ..., 0.        , 0.        ,\n",
       "        0.        ],\n",
       "       ...,\n",
       "       [0.57735027, 0.        , 0.        , ..., 0.        , 0.        ,\n",
       "        0.        ],\n",
       "       [0.        , 0.        , 0.        , ..., 0.        , 0.        ,\n",
       "        0.22113656],\n",
       "       [0.        , 0.        , 0.        , ..., 0.        , 0.        ,\n",
       "        0.        ]])"
      ]
     },
     "execution_count": 11,
     "metadata": {},
     "output_type": "execute_result"
    }
   ],
   "source": [
    "x"
   ]
  },
  {
   "cell_type": "code",
   "execution_count": null,
   "metadata": {},
   "outputs": [],
   "source": []
  }
 ],
 "metadata": {
  "kernelspec": {
   "display_name": "base",
   "language": "python",
   "name": "python3"
  },
  "language_info": {
   "codemirror_mode": {
    "name": "ipython",
    "version": 3
   },
   "file_extension": ".py",
   "mimetype": "text/x-python",
   "name": "python",
   "nbconvert_exporter": "python",
   "pygments_lexer": "ipython3",
   "version": "3.11.5"
  }
 },
 "nbformat": 4,
 "nbformat_minor": 2
}
