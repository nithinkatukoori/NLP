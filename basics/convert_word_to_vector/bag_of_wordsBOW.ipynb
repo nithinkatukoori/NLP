{
 "cells": [
  {
   "cell_type": "code",
   "execution_count": 2,
   "metadata": {},
   "outputs": [],
   "source": [
    "import nltk\n",
    "import re\n",
    "from nltk.corpus import stopwords\n",
    "from nltk.stem import PorterStemmer\n",
    "from nltk.stem import WordNetLemmatizer"
   ]
  },
  {
   "cell_type": "code",
   "execution_count": 3,
   "metadata": {},
   "outputs": [],
   "source": [
    "paragraph='''\"I HAVE THREE VISIONS FOR INDIA\"\n",
    " \n",
    "In 3000 years of our history, people from all over the world have come and invadedus,\n",
    " captured our lands, conquered our minds. From Alexander on-vvards. The Greeks,the Turks’, \n",
    " the-Moguls, the Portuguese, the British, the French, the Dutch, all of themcame and looted us,\n",
    "   took over what was ours. Yet we have not done this to any othernation. We have not conquered anyone.\n",
    " \n",
    "We have not grabbed their land, their culture, their history and tried to enforce ourway of \n",
    "life on them. Why? Because we respect the freedom of others. That is why myfirst vision is that of FREEDOM\n",
    ". I believe that India got its first vision of this in 1857,when we started the war of independence. \n",
    "It is this freedom that we must protect andnurture and build on. If we are not free, no one will respect us.\n",
    " \n",
    "My second vision for India is DEVELOPMENT. For fifty years\n",
    " we have been adeveloping nation. It is time we see ourselves\n",
    "   as a developed nation. We are amongthe top 5 nations of the world in \n",
    "   terms of GDP. We have 10 percent growth rate in mostareas. Our povert\n",
    "   y levels are falling. Our achievements are being globally recognizedtoday. \n",
    "   Yet we lack the self-confidence to see ourselves as a developed nation, self-reliant and self-assured. Isn’t this incorrect?\n",
    "'''"
   ]
  },
  {
   "cell_type": "code",
   "execution_count": 4,
   "metadata": {},
   "outputs": [],
   "source": [
    "stemmer=PorterStemmer()\n",
    "lemmatizer=WordNetLemmatizer()"
   ]
  },
  {
   "cell_type": "code",
   "execution_count": 10,
   "metadata": {},
   "outputs": [
    {
     "data": {
      "text/plain": [
       "['n year history people world come invadedus captured land conquered mind',\n",
       " 'rom alexander vvards',\n",
       " 'reek urks oguls ortuguese ritish rench utch themcame looted u took',\n",
       " 'et done othernation',\n",
       " 'e conquered anyone',\n",
       " 'e grabbed land culture history tried enforce ourway life',\n",
       " 'hy',\n",
       " 'ecause respect freedom others',\n",
       " 'hat myfirst vision',\n",
       " 'believe ndia got first vision started war independence',\n",
       " 'freedom must protect andnurture build',\n",
       " 'f free one respect u',\n",
       " 'second vision ndia',\n",
       " 'fifty year adeveloping nation',\n",
       " 'time see developed nation',\n",
       " 'e amongthe top nation world term',\n",
       " 'e percent growth rate mostareas',\n",
       " 'ur povert level falling',\n",
       " 'ur achievement globally recognizedtoday',\n",
       " 'et lack self confidence see developed nation self reliant self assured',\n",
       " 'sn incorrect']"
      ]
     },
     "execution_count": 10,
     "metadata": {},
     "output_type": "execute_result"
    }
   ],
   "source": [
    "#cleaning of data\n",
    "sentences=nltk.sent_tokenize(paragraph)\n",
    "corpus=[]\n",
    "for i in range(len(Sentences)):\n",
    "    review=re.sub('[^a-zA-A]',' ',sentences[i])\n",
    "    review=review.lower()\n",
    "    review=review.split()\n",
    "    review=[lemmatizer.lemmatize(word) for word in review if word not in set(stopwords.words('english'))]\n",
    "    review=' '.join(review)\n",
    "    corpus.append(review)\n",
    "corpus"
   ]
  },
  {
   "cell_type": "code",
   "execution_count": 13,
   "metadata": {},
   "outputs": [],
   "source": [
    "#vectorizing using bag of words\n",
    "from sklearn.feature_extraction.text import CountVectorizer\n",
    "cv=CountVectorizer(max_features=1500)\n",
    "x=cv.fit_transform(corpus).toarray()"
   ]
  },
  {
   "cell_type": "code",
   "execution_count": 14,
   "metadata": {},
   "outputs": [
    {
     "data": {
      "text/plain": [
       "array([[0, 0, 0, ..., 0, 1, 1],\n",
       "       [0, 0, 1, ..., 0, 0, 0],\n",
       "       [0, 0, 0, ..., 0, 0, 0],\n",
       "       ...,\n",
       "       [1, 0, 0, ..., 0, 0, 0],\n",
       "       [0, 0, 0, ..., 0, 0, 0],\n",
       "       [0, 0, 0, ..., 0, 0, 0]], dtype=int64)"
      ]
     },
     "execution_count": 14,
     "metadata": {},
     "output_type": "execute_result"
    }
   ],
   "source": [
    "x"
   ]
  },
  {
   "cell_type": "code",
   "execution_count": null,
   "metadata": {},
   "outputs": [],
   "source": []
  }
 ],
 "metadata": {
  "kernelspec": {
   "display_name": "base",
   "language": "python",
   "name": "python3"
  },
  "language_info": {
   "codemirror_mode": {
    "name": "ipython",
    "version": 3
   },
   "file_extension": ".py",
   "mimetype": "text/x-python",
   "name": "python",
   "nbconvert_exporter": "python",
   "pygments_lexer": "ipython3",
   "version": "3.11.5"
  }
 },
 "nbformat": 4,
 "nbformat_minor": 2
}
