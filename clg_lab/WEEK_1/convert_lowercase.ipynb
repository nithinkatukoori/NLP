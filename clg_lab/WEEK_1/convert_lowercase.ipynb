{
 "cells": [
  {
   "cell_type": "code",
   "execution_count": 7,
   "metadata": {},
   "outputs": [],
   "source": [
    "#convert into lowercase\n",
    "#remove numbers\n",
    "#remove punctuation\n",
    "#remove white spaces\n",
    "import re \n",
    "import string\n",
    "\n",
    "def preprocess_text(text):\n",
    "    #convert into lowercase vocabulary for unify the vocabulary\n",
    "    text=text.lower()\n",
    "\n",
    "\n",
    "    #Remove nummbers \n",
    "    text=re.sub(r'\\d+',\"\",text)#code removes (substitutes with an empty string) all sequences of digits from the text string.\n",
    "\n",
    "    #Remove punctuation\n",
    "    punctuation_remover=str.maketrans('','',string.punctuation)\n",
    "    text=text.translate(punctuation_remover)\n",
    "\n",
    "    #remove excessive white space\n",
    "    text=''.join(text.split())\n",
    "\n",
    "    return text\n"
   ]
  },
  {
   "cell_type": "code",
   "execution_count": 8,
   "metadata": {},
   "outputs": [
    {
     "name": "stdout",
     "output_type": "stream",
     "text": [
      "nithinwelcomeiare\n"
     ]
    }
   ],
   "source": [
    "sample_text=\"Nithin @ 2003 welcome___IAre\"\n",
    "processed_text=preprocess_text(sample_text)\n",
    "print(processed_text)"
   ]
  },
  {
   "cell_type": "code",
   "execution_count": null,
   "metadata": {},
   "outputs": [],
   "source": []
  }
 ],
 "metadata": {
  "kernelspec": {
   "display_name": "base",
   "language": "python",
   "name": "python3"
  },
  "language_info": {
   "codemirror_mode": {
    "name": "ipython",
    "version": 3
   },
   "file_extension": ".py",
   "mimetype": "text/x-python",
   "name": "python",
   "nbconvert_exporter": "python",
   "pygments_lexer": "ipython3",
   "version": "3.11.5"
  }
 },
 "nbformat": 4,
 "nbformat_minor": 2
}
