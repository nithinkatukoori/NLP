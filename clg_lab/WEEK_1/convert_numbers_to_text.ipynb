{
 "cells": [
  {
   "cell_type": "code",
   "execution_count": 4,
   "metadata": {},
   "outputs": [],
   "source": [
    "import re\n",
    "import string\n",
    "import inflect\n"
   ]
  },
  {
   "cell_type": "code",
   "execution_count": 5,
   "metadata": {},
   "outputs": [],
   "source": [
    "def preprocess_text(text):\n",
    "    #convert to lower\n",
    "    text=text.lower()\n",
    "\n",
    "    #convert into words\n",
    "    p=inflect.engine()\n",
    "    text=re.sub(r'\\d+',lambda x:p.number_to_words(x.group()),text)\n",
    "\n",
    "    #remove punctuation\n",
    "    punctuation_remover=str.maketrans('','',string.punctuation)\n",
    "    text=text.translate(punctuation_remover)\n",
    "\n",
    "    #remove whitespace\n",
    "    text=''.join(text.split())\n",
    "    \n",
    "    return text"
   ]
  },
  {
   "cell_type": "code",
   "execution_count": 6,
   "metadata": {},
   "outputs": [
    {
     "data": {
      "text/plain": [
       "'iwasbornintwothousandandthree'"
      ]
     },
     "execution_count": 6,
     "metadata": {},
     "output_type": "execute_result"
    }
   ],
   "source": [
    "text_sample=\"I was born in @2003\"\n",
    "processed=preprocess_text(text_sample)\n",
    "processed"
   ]
  },
  {
   "cell_type": "code",
   "execution_count": null,
   "metadata": {},
   "outputs": [],
   "source": []
  }
 ],
 "metadata": {
  "kernelspec": {
   "display_name": "base",
   "language": "python",
   "name": "python3"
  },
  "language_info": {
   "codemirror_mode": {
    "name": "ipython",
    "version": 3
   },
   "file_extension": ".py",
   "mimetype": "text/x-python",
   "name": "python",
   "nbconvert_exporter": "python",
   "pygments_lexer": "ipython3",
   "version": "3.11.5"
  }
 },
 "nbformat": 4,
 "nbformat_minor": 2
}
